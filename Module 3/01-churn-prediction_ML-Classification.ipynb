{
 "cells": [
  {
   "cell_type": "markdown",
   "id": "276fc13f",
   "metadata": {},
   "source": [
    "# Machine Learning - Classification"
   ]
  },
  {
   "cell_type": "markdown",
   "id": "17a41b81",
   "metadata": {},
   "source": []
  }
 ],
 "metadata": {
  "language_info": {
   "name": "python"
  }
 },
 "nbformat": 4,
 "nbformat_minor": 5
}
