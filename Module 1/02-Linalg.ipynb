{
 "cells": [
  {
   "cell_type": "markdown",
   "id": "0b631db7",
   "metadata": {},
   "source": [
    "# [Linear Algebra](https://www.youtube.com/watch?v=zZyKUeOR4Gg&list=PL3MmuxUbc_hIhxl5Ji8t4O6lPAOpHaCLR&index=10)"
   ]
  },
  {
   "cell_type": "code",
   "execution_count": 167,
   "id": "91854da3",
   "metadata": {},
   "outputs": [],
   "source": [
    "import numpy as np"
   ]
  },
  {
   "cell_type": "markdown",
   "id": "60bbf7be",
   "metadata": {},
   "source": [
    "### Vector operations"
   ]
  },
  {
   "cell_type": "code",
   "execution_count": 168,
   "id": "8da8aedd",
   "metadata": {},
   "outputs": [
    {
     "data": {
      "text/plain": [
       "array([2, 4, 5, 6])"
      ]
     },
     "execution_count": 168,
     "metadata": {},
     "output_type": "execute_result"
    }
   ],
   "source": [
    "u = np.array([2, 4, 5, 6]) # vector u\n",
    "\n",
    "u"
   ]
  },
  {
   "cell_type": "code",
   "execution_count": 169,
   "id": "2048327b",
   "metadata": {},
   "outputs": [
    {
     "data": {
      "text/plain": [
       "array([1, 0, 0, 2])"
      ]
     },
     "execution_count": 169,
     "metadata": {},
     "output_type": "execute_result"
    }
   ],
   "source": [
    "v = np.array([1, 0, 0, 2]) # vector v\n",
    "\n",
    "v"
   ]
  },
  {
   "cell_type": "code",
   "execution_count": 170,
   "id": "48d8db47",
   "metadata": {},
   "outputs": [
    {
     "data": {
      "text/plain": [
       "array([3, 4, 5, 8])"
      ]
     },
     "execution_count": 170,
     "metadata": {},
     "output_type": "execute_result"
    }
   ],
   "source": [
    "u + v"
   ]
  },
  {
   "cell_type": "code",
   "execution_count": 171,
   "id": "16160f54",
   "metadata": {},
   "outputs": [
    {
     "data": {
      "text/plain": [
       "array([ 3. ,  8. , 12.5, 24. ])"
      ]
     },
     "execution_count": 171,
     "metadata": {},
     "output_type": "execute_result"
    }
   ],
   "source": [
    "(u + v) / 2 * u"
   ]
  },
  {
   "cell_type": "code",
   "execution_count": 172,
   "id": "f777ddd1",
   "metadata": {},
   "outputs": [
    {
     "data": {
      "text/plain": [
       "array([ 2,  0,  0, 12])"
      ]
     },
     "execution_count": 172,
     "metadata": {},
     "output_type": "execute_result"
    }
   ],
   "source": [
    "u * v # element-wise multiplication... different from dot product in linear algebra"
   ]
  },
  {
   "cell_type": "markdown",
   "id": "2c43d2b4",
   "metadata": {},
   "source": [
    "### Multiplication\n",
    "- Vector-vector multiplication (dot product)\n",
    "- Matrix-vector multiplication\n",
    "- Matrix-matrix multiplication\n",
    "\n",
    "\n",
    "if we wanna change a column vector to a row vector, we'll use `transpose`"
   ]
  },
  {
   "cell_type": "markdown",
   "id": "de8ba69b",
   "metadata": {},
   "source": [
    "##### _Vector-vector multiplication (dot product)_"
   ]
  },
  {
   "cell_type": "code",
   "execution_count": 173,
   "id": "8d76a5d0",
   "metadata": {},
   "outputs": [
    {
     "data": {
      "text/plain": [
       "4"
      ]
     },
     "execution_count": 173,
     "metadata": {},
     "output_type": "execute_result"
    }
   ],
   "source": [
    "u.shape[0]"
   ]
  },
  {
   "cell_type": "code",
   "execution_count": 174,
   "id": "37e3c7d1",
   "metadata": {},
   "outputs": [
    {
     "data": {
      "text/plain": [
       "(4,)"
      ]
     },
     "execution_count": 174,
     "metadata": {},
     "output_type": "execute_result"
    }
   ],
   "source": [
    "v.shape"
   ]
  },
  {
   "cell_type": "code",
   "execution_count": 175,
   "id": "45f988c3",
   "metadata": {},
   "outputs": [],
   "source": [
    "def vector_vector_multiplication(u, v):\n",
    "    assert u.shape[0] == v.shape[0]       # Vectors must be the same length\n",
    "\n",
    "    n = u.shape[0]\n",
    "\n",
    "    result = 0.0\n",
    "\n",
    "    for i in range(n):\n",
    "        result = result + u[i] * v[i]     # or  # result += u[i] * v[i]\n",
    "\n",
    "    return result"
   ]
  },
  {
   "cell_type": "code",
   "execution_count": 176,
   "id": "8ec74791",
   "metadata": {},
   "outputs": [
    {
     "name": "stdout",
     "output_type": "stream",
     "text": [
      "14.0\n"
     ]
    }
   ],
   "source": [
    "print(vector_vector_multiplication(u, v))"
   ]
  },
  {
   "cell_type": "markdown",
   "id": "e34f2085",
   "metadata": {},
   "source": [
    "...in numpy, you can also do this instead of using the function"
   ]
  },
  {
   "cell_type": "code",
   "execution_count": 177,
   "id": "923c9888",
   "metadata": {},
   "outputs": [
    {
     "name": "stdout",
     "output_type": "stream",
     "text": [
      "14\n"
     ]
    }
   ],
   "source": [
    "print(u.dot(v))"
   ]
  },
  {
   "cell_type": "markdown",
   "id": "dd03318e",
   "metadata": {},
   "source": [
    "##### _Matrix-vector multiplication_"
   ]
  },
  {
   "cell_type": "code",
   "execution_count": 178,
   "id": "cb969422",
   "metadata": {},
   "outputs": [
    {
     "data": {
      "text/plain": [
       "array([[2, 4, 5, 6],\n",
       "       [1, 2, 1, 2],\n",
       "       [3, 1, 2, 1]])"
      ]
     },
     "execution_count": 178,
     "metadata": {},
     "output_type": "execute_result"
    }
   ],
   "source": [
    "U = np.array(           # matrix U\n",
    "    [[2, 4, 5, 6],\n",
    "     [1, 2, 1, 2],\n",
    "     [3, 1, 2, 1]]\n",
    ")\n",
    "\n",
    "U    "
   ]
  },
  {
   "cell_type": "code",
   "execution_count": 179,
   "id": "0c3ca226",
   "metadata": {},
   "outputs": [
    {
     "name": "stdout",
     "output_type": "stream",
     "text": [
      "[[2 4 5 6]\n",
      " [1 2 1 2]\n",
      " [3 1 2 1]]\n"
     ]
    }
   ],
   "source": [
    "print(U)"
   ]
  },
  {
   "cell_type": "code",
   "execution_count": 180,
   "id": "274b2fcc",
   "metadata": {},
   "outputs": [
    {
     "data": {
      "text/plain": [
       "(3, 4)"
      ]
     },
     "execution_count": 180,
     "metadata": {},
     "output_type": "execute_result"
    }
   ],
   "source": [
    "U.shape"
   ]
  },
  {
   "cell_type": "code",
   "execution_count": 181,
   "id": "9eebac28",
   "metadata": {},
   "outputs": [],
   "source": [
    "def matrix_vector_multiplication(U, v):\n",
    "    assert U.shape[1] == v.shape[0]      \n",
    "\n",
    "    num_rows = U.shape[0]                        \n",
    "\n",
    "    result = np.zeros(num_rows)  \n",
    "                    \n",
    "    for i in range(num_rows):\n",
    "        result[i] = vector_vector_multiplication(U[i], v) \n",
    "\n",
    "    return result"
   ]
  },
  {
   "cell_type": "code",
   "execution_count": 182,
   "id": "0d02996b",
   "metadata": {},
   "outputs": [
    {
     "data": {
      "text/plain": [
       "array([14.,  5.,  5.])"
      ]
     },
     "execution_count": 182,
     "metadata": {},
     "output_type": "execute_result"
    }
   ],
   "source": [
    "matrix_vector_multiplication(U, v)"
   ]
  },
  {
   "cell_type": "markdown",
   "id": "16e549f3",
   "metadata": {},
   "source": [
    "...using numpy"
   ]
  },
  {
   "cell_type": "code",
   "execution_count": 183,
   "id": "024f9d70",
   "metadata": {},
   "outputs": [
    {
     "data": {
      "text/plain": [
       "array([14,  5,  5])"
      ]
     },
     "execution_count": 183,
     "metadata": {},
     "output_type": "execute_result"
    }
   ],
   "source": [
    "U.dot(v)"
   ]
  },
  {
   "cell_type": "markdown",
   "id": "790f91d9",
   "metadata": {},
   "source": [
    "##### _Matrix-matrix multiplication_"
   ]
  },
  {
   "cell_type": "code",
   "execution_count": 184,
   "id": "0df624cc",
   "metadata": {},
   "outputs": [
    {
     "data": {
      "text/plain": [
       "array([[1. , 1. , 2. ],\n",
       "       [0. , 0.5, 1. ],\n",
       "       [0. , 2. , 1. ],\n",
       "       [2. , 1. , 0. ]])"
      ]
     },
     "execution_count": 184,
     "metadata": {},
     "output_type": "execute_result"
    }
   ],
   "source": [
    "V = np.array(           # matrix V\n",
    "    [[1, 1, 2],\n",
    "     [0, 0.5, 1],\n",
    "     [0, 2, 1],\n",
    "     [2, 1, 0]\n",
    "])\n",
    "\n",
    "V"
   ]
  },
  {
   "cell_type": "code",
   "execution_count": 185,
   "id": "d1db1a8c",
   "metadata": {},
   "outputs": [
    {
     "data": {
      "text/plain": [
       "array([[2, 4, 5, 6],\n",
       "       [1, 2, 1, 2],\n",
       "       [3, 1, 2, 1]])"
      ]
     },
     "execution_count": 185,
     "metadata": {},
     "output_type": "execute_result"
    }
   ],
   "source": [
    "U"
   ]
  },
  {
   "cell_type": "code",
   "execution_count": 186,
   "id": "88adb423",
   "metadata": {},
   "outputs": [],
   "source": [
    "def matrix_matrix_multiplication(U, V):\n",
    "    assert U.shape[1] == V.shape[0]      \n",
    "\n",
    "    num_rows = U.shape[0]                        \n",
    "    num_cols = V.shape[1]                        \n",
    "\n",
    "    result = np.zeros((num_rows, num_cols))  \n",
    "                    \n",
    "    for i in range(num_rows):\n",
    "        vi = V[:, i]\n",
    "        Uvi = matrix_vector_multiplication(U, vi)\n",
    "        result[:, i] = Uvi\n",
    "\n",
    "    return result"
   ]
  },
  {
   "cell_type": "code",
   "execution_count": 187,
   "id": "a1f51dce",
   "metadata": {},
   "outputs": [
    {
     "data": {
      "text/plain": [
       "array([[14. , 20. , 13. ],\n",
       "       [ 5. ,  6. ,  5. ],\n",
       "       [ 5. ,  8.5,  9. ]])"
      ]
     },
     "execution_count": 187,
     "metadata": {},
     "output_type": "execute_result"
    }
   ],
   "source": [
    "matrix_matrix_multiplication(U, V)"
   ]
  },
  {
   "cell_type": "markdown",
   "id": "8a0d6c36",
   "metadata": {},
   "source": [
    "...using numpy"
   ]
  },
  {
   "cell_type": "code",
   "execution_count": 188,
   "id": "5cf9485a",
   "metadata": {},
   "outputs": [
    {
     "data": {
      "text/plain": [
       "array([[14. , 20. , 13. ],\n",
       "       [ 5. ,  6. ,  5. ],\n",
       "       [ 5. ,  8.5,  9. ]])"
      ]
     },
     "execution_count": 188,
     "metadata": {},
     "output_type": "execute_result"
    }
   ],
   "source": [
    "U.dot(V)"
   ]
  },
  {
   "cell_type": "markdown",
   "id": "8c73dce9",
   "metadata": {},
   "source": [
    "### Identity Matrix (I)\n",
    "\n",
    "e.g `U . I = U`\n",
    "    or\n",
    "    `I . U = U`\n",
    "\n",
    "\n",
    "identity matrix (I) is like 1... such that anything multiplied by 1 returns that thing\n",
    "\n",
    "e.g `1 . x = x` or `x . 1 = x`"
   ]
  },
  {
   "cell_type": "code",
   "execution_count": 189,
   "id": "7a509d40",
   "metadata": {},
   "outputs": [
    {
     "name": "stdout",
     "output_type": "stream",
     "text": [
      "[[1. 0. 0. 0. 0. 0. 0. 0. 0. 0.]\n",
      " [0. 1. 0. 0. 0. 0. 0. 0. 0. 0.]\n",
      " [0. 0. 1. 0. 0. 0. 0. 0. 0. 0.]\n",
      " [0. 0. 0. 1. 0. 0. 0. 0. 0. 0.]\n",
      " [0. 0. 0. 0. 1. 0. 0. 0. 0. 0.]\n",
      " [0. 0. 0. 0. 0. 1. 0. 0. 0. 0.]\n",
      " [0. 0. 0. 0. 0. 0. 1. 0. 0. 0.]\n",
      " [0. 0. 0. 0. 0. 0. 0. 1. 0. 0.]\n",
      " [0. 0. 0. 0. 0. 0. 0. 0. 1. 0.]\n",
      " [0. 0. 0. 0. 0. 0. 0. 0. 0. 1.]]\n"
     ]
    }
   ],
   "source": [
    "I_mx = np.eye(10)  # identity matrix of size 10x10\n",
    "print(I_mx)"
   ]
  },
  {
   "cell_type": "code",
   "execution_count": 190,
   "id": "82b11c58",
   "metadata": {},
   "outputs": [
    {
     "name": "stdout",
     "output_type": "stream",
     "text": [
      "[[1. 0. 0.]\n",
      " [0. 1. 0.]\n",
      " [0. 0. 1.]]\n"
     ]
    }
   ],
   "source": [
    "I = np.eye(3)  # identity matrix of size 3x3\n",
    "print(I)"
   ]
  },
  {
   "cell_type": "code",
   "execution_count": 191,
   "id": "4322a06f",
   "metadata": {},
   "outputs": [
    {
     "name": "stdout",
     "output_type": "stream",
     "text": [
      "[[1.  1.  2. ]\n",
      " [0.  0.5 1. ]\n",
      " [0.  2.  1. ]\n",
      " [2.  1.  0. ]]\n"
     ]
    }
   ],
   "source": [
    "print(V)"
   ]
  },
  {
   "cell_type": "code",
   "execution_count": 192,
   "id": "0e09c0c5",
   "metadata": {},
   "outputs": [
    {
     "data": {
      "text/plain": [
       "array([[1. , 1. , 2. ],\n",
       "       [0. , 0.5, 1. ],\n",
       "       [0. , 2. , 1. ],\n",
       "       [2. , 1. , 0. ]])"
      ]
     },
     "execution_count": 192,
     "metadata": {},
     "output_type": "execute_result"
    }
   ],
   "source": [
    "V.dot(I)"
   ]
  },
  {
   "cell_type": "markdown",
   "id": "dc3ce98f",
   "metadata": {},
   "source": [
    "Identity Matrix is useful for understanding Matrix Inverse"
   ]
  },
  {
   "cell_type": "markdown",
   "id": "bb81f38b",
   "metadata": {},
   "source": [
    "### Matrix inverse"
   ]
  },
  {
   "cell_type": "code",
   "execution_count": 193,
   "id": "1b17bc30",
   "metadata": {},
   "outputs": [
    {
     "data": {
      "text/plain": [
       "array([[1. , 1. , 2. ],\n",
       "       [0. , 0.5, 1. ],\n",
       "       [0. , 2. , 1. ]])"
      ]
     },
     "execution_count": 193,
     "metadata": {},
     "output_type": "execute_result"
    }
   ],
   "source": [
    "Vs = V[[0, 1, 2]]  # square matrix from V\n",
    "Vs"
   ]
  },
  {
   "cell_type": "code",
   "execution_count": 194,
   "id": "1fbe4cba",
   "metadata": {},
   "outputs": [
    {
     "data": {
      "text/plain": [
       "array([[ 1.        , -2.        ,  0.        ],\n",
       "       [ 0.        , -0.66666667,  0.66666667],\n",
       "       [ 0.        ,  1.33333333, -0.33333333]])"
      ]
     },
     "execution_count": 194,
     "metadata": {},
     "output_type": "execute_result"
    }
   ],
   "source": [
    "Vs_inv = np.linalg.inv(Vs) # matrix inverse\n",
    "Vs_inv"
   ]
  },
  {
   "cell_type": "code",
   "execution_count": 195,
   "id": "42c17be8",
   "metadata": {},
   "outputs": [
    {
     "data": {
      "text/plain": [
       "array([[1., 0., 0.],\n",
       "       [0., 1., 0.],\n",
       "       [0., 0., 1.]])"
      ]
     },
     "execution_count": 195,
     "metadata": {},
     "output_type": "execute_result"
    }
   ],
   "source": [
    "Vs_inv.dot(Vs)"
   ]
  },
  {
   "cell_type": "markdown",
   "id": "6ec2ef48",
   "metadata": {},
   "source": [
    "...quite useful for Linear regression"
   ]
  }
 ],
 "metadata": {
  "kernelspec": {
   "display_name": "venv",
   "language": "python",
   "name": "python3"
  },
  "language_info": {
   "codemirror_mode": {
    "name": "ipython",
    "version": 3
   },
   "file_extension": ".py",
   "mimetype": "text/x-python",
   "name": "python",
   "nbconvert_exporter": "python",
   "pygments_lexer": "ipython3",
   "version": "3.11.9"
  }
 },
 "nbformat": 4,
 "nbformat_minor": 5
}
