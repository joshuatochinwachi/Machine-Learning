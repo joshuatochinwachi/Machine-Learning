{
 "cells": [
  {
   "cell_type": "markdown",
   "id": "0b631db7",
   "metadata": {},
   "source": [
    "# [Linear Algebra](https://www.youtube.com/watch?v=zZyKUeOR4Gg&list=PL3MmuxUbc_hIhxl5Ji8t4O6lPAOpHaCLR&index=10)"
   ]
  },
  {
   "cell_type": "code",
   "execution_count": null,
   "id": "8da8aedd",
   "metadata": {},
   "outputs": [],
   "source": []
  },
  {
   "cell_type": "code",
   "execution_count": null,
   "id": "2048327b",
   "metadata": {},
   "outputs": [],
   "source": []
  }
 ],
 "metadata": {
  "kernelspec": {
   "display_name": "venv",
   "language": "python",
   "name": "python3"
  },
  "language_info": {
   "name": "python",
   "version": "3.11.9"
  }
 },
 "nbformat": 4,
 "nbformat_minor": 5
}
