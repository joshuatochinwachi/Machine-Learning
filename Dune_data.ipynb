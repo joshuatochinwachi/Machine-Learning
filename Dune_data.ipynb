{
 "cells": [
  {
   "cell_type": "code",
   "execution_count": 3,
   "id": "ce3987c9",
   "metadata": {},
   "outputs": [],
   "source": [
    "from dune_client.client import DuneClient\n",
    "import os\n",
    "import pandas as pd\n",
    "from dotenv import load_dotenv\n",
    "load_dotenv()\n",
    "\n",
    "dune_api_key = os.getenv(\"DEFI_JOSH_DUNE_QUERY_API_KEY\")"
   ]
  },
  {
   "cell_type": "markdown",
   "id": "38b21973",
   "metadata": {},
   "source": [
    "Fecthing latest Dune query result for [https://dune.com/queries/5972407](https://dune.com/queries/5972407)"
   ]
  },
  {
   "cell_type": "code",
   "execution_count": null,
   "id": "d8263470",
   "metadata": {},
   "outputs": [],
   "source": [
    "dune = DuneClient(dune_api_key)\n",
    "query_result = dune.get_latest_result(5972407)  \n",
    "\n",
    "rows = query_result.result.rows\n",
    "\n",
    "data = pd.DataFrame(rows)\n",
    "\n",
    "data.to_csv('data/dune_data.csv', index=False)"
   ]
  }
 ],
 "metadata": {
  "kernelspec": {
   "display_name": "venv",
   "language": "python",
   "name": "python3"
  },
  "language_info": {
   "codemirror_mode": {
    "name": "ipython",
    "version": 3
   },
   "file_extension": ".py",
   "mimetype": "text/x-python",
   "name": "python",
   "nbconvert_exporter": "python",
   "pygments_lexer": "ipython3",
   "version": "3.11.9"
  }
 },
 "nbformat": 4,
 "nbformat_minor": 5
}
