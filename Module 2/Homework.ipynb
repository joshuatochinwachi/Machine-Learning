{
 "cells": [
  {
   "cell_type": "code",
   "execution_count": 1,
   "id": "de93c673",
   "metadata": {},
   "outputs": [],
   "source": [
    "import numpy as np\n",
    "import pandas as pd\n",
    "import matplotlib.pyplot as plt\n",
    "import seaborn as sns\n",
    "\n",
    "%matplotlib inline"
   ]
  },
  {
   "cell_type": "code",
   "execution_count": 2,
   "id": "777a4bcc",
   "metadata": {},
   "outputs": [],
   "source": [
    "data = \"https://raw.githubusercontent.com/alexeygrigorev/datasets/master/car_fuel_efficiency.csv\""
   ]
  },
  {
   "cell_type": "code",
   "execution_count": 4,
   "id": "9f066eb3",
   "metadata": {},
   "outputs": [],
   "source": [
    "# !wget $data"
   ]
  },
  {
   "cell_type": "code",
   "execution_count": 5,
   "id": "bb734b32",
   "metadata": {},
   "outputs": [
    {
     "data": {
      "text/html": [
       "<div>\n",
       "<style scoped>\n",
       "    .dataframe tbody tr th:only-of-type {\n",
       "        vertical-align: middle;\n",
       "    }\n",
       "\n",
       "    .dataframe tbody tr th {\n",
       "        vertical-align: top;\n",
       "    }\n",
       "\n",
       "    .dataframe thead th {\n",
       "        text-align: right;\n",
       "    }\n",
       "</style>\n",
       "<table border=\"1\" class=\"dataframe\">\n",
       "  <thead>\n",
       "    <tr style=\"text-align: right;\">\n",
       "      <th></th>\n",
       "      <th>engine_displacement</th>\n",
       "      <th>num_cylinders</th>\n",
       "      <th>horsepower</th>\n",
       "      <th>vehicle_weight</th>\n",
       "      <th>acceleration</th>\n",
       "      <th>model_year</th>\n",
       "      <th>origin</th>\n",
       "      <th>fuel_type</th>\n",
       "      <th>drivetrain</th>\n",
       "      <th>num_doors</th>\n",
       "      <th>fuel_efficiency_mpg</th>\n",
       "    </tr>\n",
       "  </thead>\n",
       "  <tbody>\n",
       "    <tr>\n",
       "      <th>0</th>\n",
       "      <td>170</td>\n",
       "      <td>3.0</td>\n",
       "      <td>159.0</td>\n",
       "      <td>3413.433759</td>\n",
       "      <td>17.7</td>\n",
       "      <td>2003</td>\n",
       "      <td>Europe</td>\n",
       "      <td>Gasoline</td>\n",
       "      <td>All-wheel drive</td>\n",
       "      <td>0.0</td>\n",
       "      <td>13.231729</td>\n",
       "    </tr>\n",
       "    <tr>\n",
       "      <th>1</th>\n",
       "      <td>130</td>\n",
       "      <td>5.0</td>\n",
       "      <td>97.0</td>\n",
       "      <td>3149.664934</td>\n",
       "      <td>17.8</td>\n",
       "      <td>2007</td>\n",
       "      <td>USA</td>\n",
       "      <td>Gasoline</td>\n",
       "      <td>Front-wheel drive</td>\n",
       "      <td>0.0</td>\n",
       "      <td>13.688217</td>\n",
       "    </tr>\n",
       "    <tr>\n",
       "      <th>2</th>\n",
       "      <td>170</td>\n",
       "      <td>NaN</td>\n",
       "      <td>78.0</td>\n",
       "      <td>3079.038997</td>\n",
       "      <td>15.1</td>\n",
       "      <td>2018</td>\n",
       "      <td>Europe</td>\n",
       "      <td>Gasoline</td>\n",
       "      <td>Front-wheel drive</td>\n",
       "      <td>0.0</td>\n",
       "      <td>14.246341</td>\n",
       "    </tr>\n",
       "    <tr>\n",
       "      <th>3</th>\n",
       "      <td>220</td>\n",
       "      <td>4.0</td>\n",
       "      <td>NaN</td>\n",
       "      <td>2542.392402</td>\n",
       "      <td>20.2</td>\n",
       "      <td>2009</td>\n",
       "      <td>USA</td>\n",
       "      <td>Diesel</td>\n",
       "      <td>All-wheel drive</td>\n",
       "      <td>2.0</td>\n",
       "      <td>16.912736</td>\n",
       "    </tr>\n",
       "    <tr>\n",
       "      <th>4</th>\n",
       "      <td>210</td>\n",
       "      <td>1.0</td>\n",
       "      <td>140.0</td>\n",
       "      <td>3460.870990</td>\n",
       "      <td>14.4</td>\n",
       "      <td>2009</td>\n",
       "      <td>Europe</td>\n",
       "      <td>Gasoline</td>\n",
       "      <td>All-wheel drive</td>\n",
       "      <td>2.0</td>\n",
       "      <td>12.488369</td>\n",
       "    </tr>\n",
       "  </tbody>\n",
       "</table>\n",
       "</div>"
      ],
      "text/plain": [
       "   engine_displacement  num_cylinders  horsepower  vehicle_weight  \\\n",
       "0                  170            3.0       159.0     3413.433759   \n",
       "1                  130            5.0        97.0     3149.664934   \n",
       "2                  170            NaN        78.0     3079.038997   \n",
       "3                  220            4.0         NaN     2542.392402   \n",
       "4                  210            1.0       140.0     3460.870990   \n",
       "\n",
       "   acceleration  model_year  origin fuel_type         drivetrain  num_doors  \\\n",
       "0          17.7        2003  Europe  Gasoline    All-wheel drive        0.0   \n",
       "1          17.8        2007     USA  Gasoline  Front-wheel drive        0.0   \n",
       "2          15.1        2018  Europe  Gasoline  Front-wheel drive        0.0   \n",
       "3          20.2        2009     USA    Diesel    All-wheel drive        2.0   \n",
       "4          14.4        2009  Europe  Gasoline    All-wheel drive        2.0   \n",
       "\n",
       "   fuel_efficiency_mpg  \n",
       "0            13.231729  \n",
       "1            13.688217  \n",
       "2            14.246341  \n",
       "3            16.912736  \n",
       "4            12.488369  "
      ]
     },
     "execution_count": 5,
     "metadata": {},
     "output_type": "execute_result"
    }
   ],
   "source": [
    "df = pd.read_csv(data)\n",
    "df.head()"
   ]
  },
  {
   "cell_type": "code",
   "execution_count": 6,
   "id": "c66b044d",
   "metadata": {},
   "outputs": [
    {
     "data": {
      "text/plain": [
       "(9704, 11)"
      ]
     },
     "execution_count": 6,
     "metadata": {},
     "output_type": "execute_result"
    }
   ],
   "source": [
    "df.shape"
   ]
  },
  {
   "cell_type": "code",
   "execution_count": 7,
   "id": "51d5287e",
   "metadata": {},
   "outputs": [
    {
     "data": {
      "text/plain": [
       "(Index(['engine_displacement', 'num_cylinders', 'horsepower', 'vehicle_weight',\n",
       "        'acceleration', 'model_year', 'origin', 'fuel_type', 'drivetrain',\n",
       "        'num_doors', 'fuel_efficiency_mpg'],\n",
       "       dtype='object'),\n",
       " engine_displacement      int64\n",
       " num_cylinders          float64\n",
       " horsepower             float64\n",
       " vehicle_weight         float64\n",
       " acceleration           float64\n",
       " model_year               int64\n",
       " origin                  object\n",
       " fuel_type               object\n",
       " drivetrain              object\n",
       " num_doors              float64\n",
       " fuel_efficiency_mpg    float64\n",
       " dtype: object)"
      ]
     },
     "execution_count": 7,
     "metadata": {},
     "output_type": "execute_result"
    }
   ],
   "source": [
    "df.columns , df.dtypes"
   ]
  },
  {
   "cell_type": "code",
   "execution_count": 8,
   "id": "76129249",
   "metadata": {},
   "outputs": [
    {
     "data": {
      "text/plain": [
       "engine_displacement      0\n",
       "num_cylinders          482\n",
       "horsepower             708\n",
       "vehicle_weight           0\n",
       "acceleration           930\n",
       "model_year               0\n",
       "origin                   0\n",
       "fuel_type                0\n",
       "drivetrain               0\n",
       "num_doors              502\n",
       "fuel_efficiency_mpg      0\n",
       "dtype: int64"
      ]
     },
     "execution_count": 8,
     "metadata": {},
     "output_type": "execute_result"
    }
   ],
   "source": [
    "df.isnull().sum()"
   ]
  },
  {
   "cell_type": "code",
   "execution_count": 9,
   "id": "b546f923",
   "metadata": {},
   "outputs": [],
   "source": [
    "columns_used = ['engine_displacement','horsepower','vehicle_weight','model_year']"
   ]
  },
  {
   "cell_type": "code",
   "execution_count": 10,
   "id": "5c86924c",
   "metadata": {},
   "outputs": [
    {
     "name": "stdout",
     "output_type": "stream",
     "text": [
      "engine_displacement\n",
      "36\n",
      "[170 130 220 210 190]\n",
      "\n",
      "horsepower\n",
      "192\n",
      "[159.  97.  78.  nan 140.]\n",
      "\n",
      "vehicle_weight\n",
      "9704\n",
      "[3413.43375861 3149.66493422 3079.03899737 2542.39240183 3460.87098999]\n",
      "\n",
      "model_year\n",
      "24\n",
      "[2003 2007 2018 2009 2008]\n",
      "\n"
     ]
    }
   ],
   "source": [
    "for col in columns_used:\n",
    "    print(col)\n",
    "    print(df[col].nunique())\n",
    "    print(df[col].unique()[:5])\n",
    "    print()"
   ]
  },
  {
   "cell_type": "code",
   "execution_count": 11,
   "id": "2b2c61f7",
   "metadata": {},
   "outputs": [
    {
     "data": {
      "text/plain": [
       "Text(0.5, 1.0, 'fuel_efficiency_mpg')"
      ]
     },
     "execution_count": 11,
     "metadata": {},
     "output_type": "execute_result"
    },
    {
     "data": {
      "image/png": "[encoded data removed]",
      "text/plain": [
       "<Figure size 640x480 with 1 Axes>"
      ]
     },
     "metadata": {},
     "output_type": "display_data"
    }
   ],
   "source": [
    "sns.histplot(df.fuel_efficiency_mpg)\n",
    "plt.title(\"fuel_efficiency_mpg\")"
   ]
  },
  {
   "cell_type": "code",
   "execution_count": 12,
   "id": "33cb30b5",
   "metadata": {},
   "outputs": [
    {
     "data": {
      "text/plain": [
       "np.float64(149.0)"
      ]
     },
     "execution_count": 12,
     "metadata": {},
     "output_type": "execute_result"
    }
   ],
   "source": [
    "df.horsepower.median()"
   ]
  },
  {
   "cell_type": "code",
   "execution_count": 13,
   "id": "2d30be5b",
   "metadata": {},
   "outputs": [
    {
     "data": {
      "text/plain": [
       "9704"
      ]
     },
     "execution_count": 13,
     "metadata": {},
     "output_type": "execute_result"
    }
   ],
   "source": [
    "n = len(df)\n",
    "n"
   ]
  },
  {
   "cell_type": "code",
   "execution_count": 14,
   "id": "bd14e7b4",
   "metadata": {},
   "outputs": [
    {
     "data": {
      "text/plain": [
       "(5824, 1940, 1940)"
      ]
     },
     "execution_count": 14,
     "metadata": {},
     "output_type": "execute_result"
    }
   ],
   "source": [
    "n_test = int(n * 0.2)\n",
    "n_val = int(n * 0.2)\n",
    "n_train = n - n_test - n_val\n",
    "\n",
    "n_train, n_val, n_test"
   ]
  },
  {
   "cell_type": "code",
   "execution_count": 15,
   "id": "4d75d351",
   "metadata": {},
   "outputs": [],
   "source": [
    "idx = np.arange(n)"
   ]
  },
  {
   "cell_type": "code",
   "execution_count": 16,
   "id": "f4648806",
   "metadata": {},
   "outputs": [],
   "source": [
    "np.random.seed(42)\n",
    "np.random.shuffle(idx)"
   ]
  },
  {
   "cell_type": "code",
   "execution_count": 17,
   "id": "a3f6ff40",
   "metadata": {},
   "outputs": [],
   "source": [
    "df_train = df.iloc[idx[:n_train]]\n",
    "df_test = df.iloc[idx[n_train:n_train + n_test]]\n",
    "df_val = df.iloc[idx[n_test + n_train:]]"
   ]
  },
  {
   "cell_type": "code",
   "execution_count": 18,
   "id": "f0d4827b",
   "metadata": {},
   "outputs": [
    {
     "data": {
      "text/plain": [
       "(5824, 1940, 1940)"
      ]
     },
     "execution_count": 18,
     "metadata": {},
     "output_type": "execute_result"
    }
   ],
   "source": [
    "len(df_train), len(df_val), len(df_test)"
   ]
  },
  {
   "cell_type": "code",
   "execution_count": 19,
   "id": "776d122d",
   "metadata": {},
   "outputs": [],
   "source": [
    "df_train = df_train.reset_index(drop= True)\n",
    "df_val = df_val.reset_index(drop= True)\n",
    "df_test = df_test.reset_index(drop= True)"
   ]
  },
  {
   "cell_type": "code",
   "execution_count": 20,
   "id": "5c277750",
   "metadata": {},
   "outputs": [],
   "source": [
    "y_train = df_train.fuel_efficiency_mpg.values\n",
    "y_val = df_val.fuel_efficiency_mpg.values\n",
    "y_test = df_test.fuel_efficiency_mpg.values"
   ]
  },
  {
   "cell_type": "code",
   "execution_count": 21,
   "id": "3b9dd8d1",
   "metadata": {},
   "outputs": [],
   "source": [
    "del df_train[\"fuel_efficiency_mpg\"]\n",
    "del df_val[\"fuel_efficiency_mpg\"]\n",
    "del df_test[\"fuel_efficiency_mpg\"]"
   ]
  },
  {
   "cell_type": "code",
   "execution_count": 22,
   "id": "f8018842",
   "metadata": {},
   "outputs": [
    {
     "data": {
      "text/plain": [
       "5824"
      ]
     },
     "execution_count": 22,
     "metadata": {},
     "output_type": "execute_result"
    }
   ],
   "source": [
    "len(y_train)"
   ]
  },
  {
   "cell_type": "code",
   "execution_count": 23,
   "id": "dd77c054",
   "metadata": {},
   "outputs": [
    {
     "data": {
      "text/plain": [
       "engine_displacement      0\n",
       "horsepower             429\n",
       "vehicle_weight           0\n",
       "model_year               0\n",
       "dtype: int64"
      ]
     },
     "execution_count": 23,
     "metadata": {},
     "output_type": "execute_result"
    }
   ],
   "source": [
    "df_train[columns_used].isna().sum()"
   ]
  },
  {
   "cell_type": "code",
   "execution_count": 24,
   "id": "6557c591",
   "metadata": {},
   "outputs": [],
   "source": [
    "X_train_0 = df_train[columns_used].fillna(0).values"
   ]
  },
  {
   "cell_type": "code",
   "execution_count": 25,
   "id": "cd80b077",
   "metadata": {},
   "outputs": [],
   "source": [
    "def train_linear_regression(X,y):\n",
    "    ones = np.ones(X.shape[0])\n",
    "    X = np.column_stack([ones, X])\n",
    "\n",
    "    XTX = X.T.dot(X)\n",
    "    XTX_inv = np.linalg.inv(XTX)\n",
    "    w_full = XTX_inv.dot(X.T).dot(y)\n",
    "\n",
    "    return w_full[0], w_full[1:]"
   ]
  },
  {
   "cell_type": "code",
   "execution_count": 26,
   "id": "1e583f90",
   "metadata": {},
   "outputs": [],
   "source": [
    "w0, w = train_linear_regression(X_train_0, y_train)"
   ]
  },
  {
   "cell_type": "code",
   "execution_count": 27,
   "id": "07c7a8e5",
   "metadata": {},
   "outputs": [
    {
     "data": {
      "text/plain": [
       "(np.float64(28.827365474598718),\n",
       " array([ 9.93613218e-05,  3.54221891e-03, -5.01328015e-03,  3.42992869e-04]))"
      ]
     },
     "execution_count": 27,
     "metadata": {},
     "output_type": "execute_result"
    }
   ],
   "source": [
    "w0, w"
   ]
  },
  {
   "cell_type": "code",
   "execution_count": 28,
   "id": "782ef8b5",
   "metadata": {},
   "outputs": [],
   "source": [
    "y_pred = w0 + X_train_0.dot(w)"
   ]
  },
  {
   "cell_type": "code",
   "execution_count": 29,
   "id": "0130d6f5",
   "metadata": {},
   "outputs": [
    {
     "data": {
      "text/plain": [
       "<Axes: ylabel='Count'>"
      ]
     },
     "execution_count": 29,
     "metadata": {},
     "output_type": "execute_result"
    },
    {
     "data": {
      "image/png": "[encoded data removed]",
      "text/plain": [
       "<Figure size 640x480 with 1 Axes>"
      ]
     },
     "metadata": {},
     "output_type": "display_data"
    }
   ],
   "source": [
    "sns.histplot(y_pred, alpha = 0.5)\n",
    "sns.histplot(y_train, alpha = 0.5)"
   ]
  },
  {
   "cell_type": "code",
   "execution_count": 30,
   "id": "91ab77b0",
   "metadata": {},
   "outputs": [
    {
     "name": "stdout",
     "output_type": "stream",
     "text": [
      "149.54476367006487\n"
     ]
    }
   ],
   "source": [
    "horsepower_mean = df_train.horsepower.mean()\n",
    "print(horsepower_mean)\n",
    "X_train_mean = df_train[columns_used].fillna(horsepower_mean).values"
   ]
  },
  {
   "cell_type": "code",
   "execution_count": 31,
   "id": "f3ac156f",
   "metadata": {},
   "outputs": [],
   "source": [
    "w0_mean, w_mean = train_linear_regression(X_train_mean, y_train)"
   ]
  },
  {
   "cell_type": "code",
   "execution_count": 32,
   "id": "1457149d",
   "metadata": {},
   "outputs": [
    {
     "data": {
      "text/plain": [
       "(np.float64(28.92525995211667),\n",
       " array([ 0.00012093,  0.01030308, -0.00501009, -0.00023463]))"
      ]
     },
     "execution_count": 32,
     "metadata": {},
     "output_type": "execute_result"
    }
   ],
   "source": [
    "w0_mean, w_mean"
   ]
  },
  {
   "cell_type": "code",
   "execution_count": 33,
   "id": "c6d09fa4",
   "metadata": {},
   "outputs": [],
   "source": [
    "y_pred_mean = w0 + X_train_0.dot(w)"
   ]
  },
  {
   "cell_type": "code",
   "execution_count": 34,
   "id": "f4528193",
   "metadata": {},
   "outputs": [
    {
     "data": {
      "text/plain": [
       "<Axes: ylabel='Count'>"
      ]
     },
     "execution_count": 34,
     "metadata": {},
     "output_type": "execute_result"
    },
    {
     "data": {
      "image/png": "[encoded data removed]",
      "text/plain": [
       "<Figure size 640x480 with 1 Axes>"
      ]
     },
     "metadata": {},
     "output_type": "display_data"
    }
   ],
   "source": [
    "sns.histplot(y_pred_mean, alpha = 0.5)\n",
    "sns.histplot(y_train, alpha = 0.5)"
   ]
  },
  {
   "cell_type": "code",
   "execution_count": 35,
   "id": "9d88fca0",
   "metadata": {},
   "outputs": [],
   "source": [
    "def rmse(y, y_pred):\n",
    "    error = y - y_pred\n",
    "    se = error ** 2\n",
    "    mse = se.mean()\n",
    "    return np.sqrt(mse)"
   ]
  },
  {
   "cell_type": "code",
   "execution_count": 36,
   "id": "a7710f4f",
   "metadata": {},
   "outputs": [],
   "source": [
    "def prepare_X_0(df):\n",
    "    df_num = df[columns_used]\n",
    "    df_num = df_num.fillna(0)\n",
    "    X = df_num.values\n",
    "    return X\n",
    "\n",
    "\n",
    "def prepare_X_mean(df):\n",
    "    df_num = df[columns_used]\n",
    "    df_num = df_num.fillna(horsepower_mean)\n",
    "    X = df_num.values\n",
    "    return X"
   ]
  },
  {
   "cell_type": "code",
   "execution_count": 37,
   "id": "a32f5a29",
   "metadata": {},
   "outputs": [
    {
     "data": {
      "text/plain": [
       "np.float64(0.5165003926284633)"
      ]
     },
     "execution_count": 37,
     "metadata": {},
     "output_type": "execute_result"
    }
   ],
   "source": [
    "X_train_0 = prepare_X_0(df_train)\n",
    "w0, w = train_linear_regression(X_train_0, y_train)\n",
    "\n",
    "X_val = prepare_X_0(df_val)\n",
    "y_pred = w0 + X_val.dot(w)\n",
    "\n",
    "rmse(y_val, y_pred)"
   ]
  },
  {
   "cell_type": "code",
   "execution_count": 38,
   "id": "f9d03a55",
   "metadata": {},
   "outputs": [
    {
     "data": {
      "text/plain": [
       "np.float64(0.4625037387434676)"
      ]
     },
     "execution_count": 38,
     "metadata": {},
     "output_type": "execute_result"
    }
   ],
   "source": [
    "X_train_mean = prepare_X_mean(df_train)\n",
    "w0, w = train_linear_regression(X_train_mean, y_train)\n",
    "\n",
    "X_val = prepare_X_mean(df_val)\n",
    "y_pred = w0 + X_val.dot(w)\n",
    "\n",
    "rmse(y_val, y_pred)"
   ]
  },
  {
   "cell_type": "code",
   "execution_count": 39,
   "id": "d2427d40",
   "metadata": {},
   "outputs": [],
   "source": [
    "def train_linear_regression_reg(X,y,r):\n",
    "    ones = np.ones(X.shape[0])\n",
    "    X = np.column_stack([ones, X])\n",
    "\n",
    "    XTX = X.T.dot(X)\n",
    "    XTX = XTX + r * np.eye(XTX.shape[0])\n",
    "    \n",
    "    XTX_inv = np.linalg.inv(XTX)\n",
    "    w_full = XTX_inv.dot(X.T).dot(y)\n",
    "\n",
    "    return w_full[0], w_full[1:]"
   ]
  },
  {
   "cell_type": "code",
   "execution_count": 40,
   "id": "24c0075e",
   "metadata": {},
   "outputs": [
    {
     "name": "stdout",
     "output_type": "stream",
     "text": [
      "0 28.827365474598718 0.52\n",
      "0.01 24.926838421084422 0.52\n",
      "0.1 11.239661085047366 0.52\n",
      "1 1.7315979412398264 0.52\n",
      "5 0.36380750207153073 0.52\n",
      "10 0.18306246622476907 0.52\n",
      "100 0.01841801730804525 0.52\n"
     ]
    }
   ],
   "source": [
    "for r in [0, 0.01, 0.1, 1, 5, 10, 100]:\n",
    "\n",
    "    X_train_0 = prepare_X_0(df_train)\n",
    "    w0, w = train_linear_regression_reg(X_train_0, y_train, r = r)\n",
    "\n",
    "    X_val = prepare_X_0(df_val)\n",
    "    y_pred = w0 + X_val.dot(w)\n",
    "    score = rmse(y_val, y_pred)\n",
    "\n",
    "    print(r, w0, score.round(2))"
   ]
  },
  {
   "cell_type": "code",
   "execution_count": 41,
   "id": "78613f4a",
   "metadata": {},
   "outputs": [
    {
     "name": "stdout",
     "output_type": "stream",
     "text": [
      "0 0.5198560749194487\n",
      "1 0.538256927870524\n",
      "2 0.5218726830716952\n",
      "3 0.5179437542470091\n",
      "4 0.5130211400703701\n",
      "5 0.5248390881148771\n",
      "6 0.5380721675803091\n",
      "7 0.5318078405364033\n",
      "8 0.5227563168440528\n",
      "9 0.5236044907149475\n"
     ]
    }
   ],
   "source": [
    "for s in [0, 1, 2, 3, 4, 5, 6, 7, 8, 9]:\n",
    "\n",
    "    np.random.seed(s)\n",
    "    np.random.shuffle(idx)\n",
    "\n",
    "    df_train = df.iloc[idx[:n_train]]\n",
    "    df_test = df.iloc[idx[n_train:n_train + n_test]]\n",
    "    df_val = df.iloc[idx[n_test + n_train:]]\n",
    "\n",
    "    df_train = df_train.reset_index(drop= True)\n",
    "    df_val = df_val.reset_index(drop= True)\n",
    "    df_test = df_test.reset_index(drop= True)\n",
    "\n",
    "    y_train = df_train.fuel_efficiency_mpg.values\n",
    "    y_val = df_val.fuel_efficiency_mpg.values\n",
    "    y_test = df_test.fuel_efficiency_mpg.values\n",
    "\n",
    "    del df_train[\"fuel_efficiency_mpg\"]\n",
    "    del df_val[\"fuel_efficiency_mpg\"]\n",
    "    del df_test[\"fuel_efficiency_mpg\"]\n",
    "\n",
    "    X_train_0 = prepare_X_0(df_train)\n",
    "    w0, w = train_linear_regression(X_train_0, y_train)\n",
    "\n",
    "    X_val = prepare_X_0(df_val)\n",
    "    y_pred = w0 + X_val.dot(w)\n",
    "\n",
    "    score = rmse(y_val, y_pred)\n",
    "\n",
    "    print(s, score)"
   ]
  },
  {
   "cell_type": "code",
   "execution_count": 42,
   "id": "483efc42",
   "metadata": {},
   "outputs": [
    {
     "name": "stdout",
     "output_type": "stream",
     "text": [
      "0.006\n"
     ]
    }
   ],
   "source": [
    "data = [\n",
    "    0.5149343218438194,\n",
    "    0.5149194930203931,\n",
    "    0.5274445907702882,\n",
    "    0.5139442606087306,\n",
    "    0.5243094084556924,\n",
    "    0.5138730172644154,\n",
    "    0.5114379807698629,\n",
    "    0.5116990729139036,\n",
    "    0.5074208739060149,\n",
    "    0.5219829570048601\n",
    "]\n",
    "\n",
    "std = np.std(data)\n",
    "print(round(std, 3))"
   ]
  },
  {
   "cell_type": "code",
   "execution_count": 43,
   "id": "b5aeb269",
   "metadata": {},
   "outputs": [
    {
     "name": "stdout",
     "output_type": "stream",
     "text": [
      "0.519\n"
     ]
    }
   ],
   "source": [
    "np.random.seed(9)\n",
    "np.random.shuffle(idx)\n",
    "\n",
    "df_train = df.iloc[idx[:n_train]]\n",
    "df_test = df.iloc[idx[n_train:n_train + n_test]]\n",
    "df_val = df.iloc[idx[n_test + n_train:]]\n",
    "\n",
    "df_train = df_train.reset_index(drop= True)\n",
    "df_val = df_val.reset_index(drop= True)\n",
    "df_test = df_test.reset_index(drop= True)\n",
    "\n",
    "y_train = df_train.fuel_efficiency_mpg.values\n",
    "y_val = df_val.fuel_efficiency_mpg.values\n",
    "y_test = df_test.fuel_efficiency_mpg.values\n",
    "\n",
    "del df_train[\"fuel_efficiency_mpg\"]\n",
    "del df_val[\"fuel_efficiency_mpg\"]\n",
    "del df_test[\"fuel_efficiency_mpg\"]\n",
    "\n",
    "\n",
    "X_train_0 = prepare_X_0(df_train)\n",
    "w0, w = train_linear_regression_reg(X_train_0, y_train, r = 0.001)\n",
    "\n",
    "X_val = prepare_X_0(df_val)\n",
    "y_pred = w0 + X_val.dot(w)\n",
    "score = rmse(y_val, y_pred)\n",
    "\n",
    "print(score.round(3))"
   ]
  }
 ],
 "metadata": {
  "kernelspec": {
   "display_name": "venv",
   "language": "python",
   "name": "python3"
  },
  "language_info": {
   "codemirror_mode": {
    "name": "ipython",
    "version": 3
   },
   "file_extension": ".py",
   "mimetype": "text/x-python",
   "name": "python",
   "nbconvert_exporter": "python",
   "pygments_lexer": "ipython3",
   "version": "3.11.9"
  }
 },
 "nbformat": 4,
 "nbformat_minor": 5
}
